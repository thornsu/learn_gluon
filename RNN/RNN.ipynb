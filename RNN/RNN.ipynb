{
 "cells": [
  {
   "cell_type": "code",
   "execution_count": 1,
   "metadata": {
    "ExecuteTime": {
     "end_time": "2017-12-01T12:59:57.633592Z",
     "start_time": "2017-12-01T12:59:57.622184Z"
    }
   },
   "outputs": [
    {
     "name": "stdout",
     "output_type": "stream",
     "text": [
      "The Time Machine, by H. G. Wells [1898]\n",
      "\n",
      "\n",
      "\n",
      "\n",
      "I\n",
      "\n",
      "\n",
      "The Time Traveller (for so it will be convenient to speak of him)\n",
      "was expounding a recondite matter to us. His grey eyes shone and\n",
      "twinkled, and his usually pale face was flushed and animated. The\n",
      "fire burned brightly, and the soft radiance of the incandescent\n",
      "lights in the lilies of silver caught the bubbles that flashed and\n",
      "passed in our glasses. Our chairs, being his patents, embraced and\n",
      "caressed us rather than submitted to be sat upon, and the\n"
     ]
    }
   ],
   "source": [
    "\n",
    "with open(\"../data/timemachine.txt\") as f:\n",
    "    time_machine = f.read()\n",
    "print(time_machine[0:500])"
   ]
  },
  {
   "cell_type": "code",
   "execution_count": 2,
   "metadata": {
    "ExecuteTime": {
     "end_time": "2017-12-01T13:00:07.745549Z",
     "start_time": "2017-12-01T13:00:07.740121Z"
    },
    "collapsed": true
   },
   "outputs": [],
   "source": [
    "time_machine = time_machine.lower().replace('\\n', '').replace('\\r', '')\n",
    "time_machine = time_machine[0:10000]"
   ]
  },
  {
   "cell_type": "code",
   "execution_count": 3,
   "metadata": {
    "ExecuteTime": {
     "end_time": "2017-12-01T13:00:17.102096Z",
     "start_time": "2017-12-01T13:00:17.083254Z"
    }
   },
   "outputs": [
    {
     "name": "stdout",
     "output_type": "stream",
     "text": [
      "vocab size: 43\n",
      "{'n': 0, 'u': 1, 'h': 2, '!': 3, 'x': 4, '1': 5, '-': 6, ')': 7, 'r': 8, 'e': 9, 'b': 10, 'j': 11, 's': 12, ' ': 13, ']': 14, ':': 15, '?': 16, 'm': 17, 'd': 18, 'f': 19, \"'\": 20, 'y': 21, 't': 22, 'i': 23, 'g': 24, 'c': 25, '(': 26, '8': 27, 'z': 28, 'l': 29, 'v': 30, 'o': 31, '9': 32, '.': 33, 'w': 34, 'k': 35, ',': 36, '_': 37, ';': 38, '[': 39, 'p': 40, 'a': 41, 'q': 42}\n"
     ]
    }
   ],
   "source": [
    "character_list = list(set(time_machine))\n",
    "character_dict = dict([(char,i) for i,char in enumerate(character_list)])\n",
    "\n",
    "vocab_size = len(character_dict)\n",
    "\n",
    "print('vocab size:', vocab_size)\n",
    "print(character_dict)"
   ]
  },
  {
   "cell_type": "code",
   "execution_count": 4,
   "metadata": {
    "ExecuteTime": {
     "end_time": "2017-12-01T13:00:25.580211Z",
     "start_time": "2017-12-01T13:00:25.573400Z"
    }
   },
   "outputs": [
    {
     "name": "stdout",
     "output_type": "stream",
     "text": [
      "chars: \n",
      " the time machine, by h. g. wells [1898]i\n",
      "\n",
      "indices: \n",
      " [22, 2, 9, 13, 22, 23, 17, 9, 13, 17, 41, 25, 2, 23, 0, 9, 36, 13, 10, 21, 13, 2, 33, 13, 24, 33, 13, 34, 9, 29, 29, 12, 13, 39, 5, 27, 32, 27, 14, 23]\n"
     ]
    }
   ],
   "source": [
    "time_numerical = [character_dict[char] for char in time_machine]\n",
    "\n",
    "sample = time_numerical[:40]\n",
    "\n",
    "print('chars: \\n', ''.join([character_list[idx] for idx in sample]))\n",
    "print('\\nindices: \\n', sample)\n"
   ]
  },
  {
   "cell_type": "code",
   "execution_count": 5,
   "metadata": {
    "ExecuteTime": {
     "end_time": "2017-12-01T13:00:34.951694Z",
     "start_time": "2017-12-01T13:00:34.470715Z"
    },
    "collapsed": true
   },
   "outputs": [],
   "source": [
    "import random\n",
    "from mxnet import nd\n",
    "\n",
    "def data_iter(batch_size, seq_len, ctx=None):\n",
    "    num_examples = (len(time_numerical)-1) // seq_len\n",
    "    num_batches = num_examples // batch_size\n",
    "    # 随机化样本\n",
    "    idx = list(range(num_examples))\n",
    "    random.shuffle(idx)\n",
    "    # 返回seq_len个数据\n",
    "    def _data(pos):\n",
    "        return time_numerical[pos:pos+seq_len]\n",
    "    for i in range(num_batches):\n",
    "        # 每次读取batch_size个随机样本\n",
    "        i = i * batch_size\n",
    "        examples = idx[i:i+batch_size]\n",
    "        data = nd.array(\n",
    "            [_data(j*seq_len) for j in examples], ctx=ctx)\n",
    "        label = nd.array(\n",
    "            [_data(j*seq_len+1) for j in examples], ctx=ctx)\n",
    "        yield data, label"
   ]
  },
  {
   "cell_type": "code",
   "execution_count": 6,
   "metadata": {
    "ExecuteTime": {
     "end_time": "2017-12-01T13:00:43.232758Z",
     "start_time": "2017-12-01T13:00:43.219180Z"
    }
   },
   "outputs": [
    {
     "name": "stdout",
     "output_type": "stream",
     "text": [
      "data:  \n",
      "[[ 22.   2.   9.  18.  23.  17.   9.   0.]\n",
      " [ 22.   2.  13.  41.  13.  29.   9.  41.]\n",
      " [ 40.   9.   8.  23.  17.   9.   0.  22.]]\n",
      "<NDArray 3x8 @cpu(0)> \n",
      "\n",
      "label: \n",
      "[[  2.   9.  18.  23.  17.   9.   0.  12.]\n",
      " [  2.  13.  41.  13.  29.   9.  41.   0.]\n",
      " [  9.   8.  23.  17.   9.   0.  22.  41.]]\n",
      "<NDArray 3x8 @cpu(0)>\n"
     ]
    }
   ],
   "source": [
    "for data, label in data_iter(batch_size=3, seq_len=8):\n",
    "    print('data: ', data, '\\n\\nlabel:', label)\n",
    "    break"
   ]
  },
  {
   "cell_type": "code",
   "execution_count": 7,
   "metadata": {
    "ExecuteTime": {
     "end_time": "2017-12-01T13:00:52.823940Z",
     "start_time": "2017-12-01T13:00:52.789654Z"
    }
   },
   "outputs": [
    {
     "data": {
      "text/plain": [
       "\n",
       "[[ 1.  0.  0.  0.  0.  0.  0.  0.  0.  0.  0.  0.  0.  0.  0.  0.  0.  0.\n",
       "   0.  0.  0.  0.  0.  0.  0.  0.  0.  0.  0.  0.  0.  0.  0.  0.  0.  0.\n",
       "   0.  0.  0.  0.  0.  0.  0.]\n",
       " [ 0.  0.  0.  0.  1.  0.  0.  0.  0.  0.  0.  0.  0.  0.  0.  0.  0.  0.\n",
       "   0.  0.  0.  0.  0.  0.  0.  0.  0.  0.  0.  0.  0.  0.  0.  0.  0.  0.\n",
       "   0.  0.  0.  0.  0.  0.  0.]]\n",
       "<NDArray 2x43 @cpu(0)>"
      ]
     },
     "execution_count": 7,
     "metadata": {},
     "output_type": "execute_result"
    }
   ],
   "source": [
    "nd.one_hot(nd.array([0,4]), vocab_size)"
   ]
  },
  {
   "cell_type": "code",
   "execution_count": 8,
   "metadata": {
    "ExecuteTime": {
     "end_time": "2017-12-01T13:01:00.987109Z",
     "start_time": "2017-12-01T13:01:00.972076Z"
    }
   },
   "outputs": [
    {
     "name": "stdout",
     "output_type": "stream",
     "text": [
      "input length:  8\n",
      "input[0] shape:  (3, 43)\n"
     ]
    }
   ],
   "source": [
    "def get_inputs(data):\n",
    "    return [nd.one_hot(X, vocab_size) for X in data.T]\n",
    "\n",
    "inputs = get_inputs(data)\n",
    "print('input length: ',len(inputs))\n",
    "print('input[0] shape: ', inputs[0].shape)"
   ]
  },
  {
   "cell_type": "code",
   "execution_count": 9,
   "metadata": {
    "ExecuteTime": {
     "end_time": "2017-12-01T13:01:11.764507Z",
     "start_time": "2017-12-01T13:01:10.378434Z"
    }
   },
   "outputs": [
    {
     "name": "stdout",
     "output_type": "stream",
     "text": [
      "Will use  gpu(0)\n"
     ]
    }
   ],
   "source": [
    "import mxnet as mx\n",
    "\n",
    "# 尝试使用 GPU\n",
    "import sys\n",
    "sys.path.append('..')\n",
    "import utils\n",
    "ctx = utils.try_gpu()\n",
    "print('Will use ', ctx)\n",
    "\n",
    "num_hidden = 256\n",
    "weight_scale = .01\n",
    "\n",
    "# 隐含层\n",
    "Wxh = nd.random_normal(shape=(vocab_size,num_hidden), ctx=ctx) * weight_scale\n",
    "Whh = nd.random_normal(shape=(num_hidden,num_hidden), ctx=ctx) * weight_scale\n",
    "bh = nd.zeros(num_hidden, ctx=ctx)\n",
    "# 输出层\n",
    "Why = nd.random_normal(shape=(num_hidden,vocab_size), ctx=ctx) * weight_scale\n",
    "by = nd.zeros(vocab_size, ctx=ctx)\n",
    "\n",
    "params = [Wxh, Whh, bh, Why, by]\n",
    "for param in params:\n",
    "    param.attach_grad()"
   ]
  },
  {
   "cell_type": "code",
   "execution_count": 10,
   "metadata": {
    "ExecuteTime": {
     "end_time": "2017-12-01T13:01:19.804655Z",
     "start_time": "2017-12-01T13:01:19.796724Z"
    },
    "collapsed": true
   },
   "outputs": [],
   "source": [
    "def rnn(inputs, H):\n",
    "    # inputs: seq_len 个 batch_size x vocab_size 矩阵\n",
    "    # H: batch_size x num_hidden 矩阵\n",
    "    # outputs: seq_len 个 batch_size x vocab_size 矩阵\n",
    "    outputs = []\n",
    "    for X in inputs:\n",
    "        H = nd.tanh(nd.dot(X, Wxh) + nd.dot(H, Whh) + bh)\n",
    "        Y = nd.dot(H, Why) + by\n",
    "        outputs.append(Y)\n",
    "    return (outputs, H)"
   ]
  },
  {
   "cell_type": "code",
   "execution_count": 11,
   "metadata": {
    "ExecuteTime": {
     "end_time": "2017-12-01T13:01:28.024710Z",
     "start_time": "2017-12-01T13:01:27.995685Z"
    }
   },
   "outputs": [
    {
     "name": "stdout",
     "output_type": "stream",
     "text": [
      "output length:  8\n",
      "output[0] shape:  (3, 43)\n",
      "state shape:  (3, 256)\n"
     ]
    }
   ],
   "source": [
    "state = nd.zeros(shape=(data.shape[0], num_hidden), ctx=ctx)\n",
    "outputs, state_new = rnn(get_inputs(data.as_in_context(ctx)), state)\n",
    "\n",
    "print('output length: ',len(outputs))\n",
    "print('output[0] shape: ', outputs[0].shape)\n",
    "print('state shape: ', state_new.shape)"
   ]
  },
  {
   "cell_type": "code",
   "execution_count": 12,
   "metadata": {
    "ExecuteTime": {
     "end_time": "2017-12-01T13:01:38.343513Z",
     "start_time": "2017-12-01T13:01:38.299633Z"
    },
    "collapsed": true
   },
   "outputs": [],
   "source": [
    "def predict(prefix, num_chars):\n",
    "    # 预测以 prefix 开始的接下来的 num_chars 个字符\n",
    "    prefix = prefix.lower()\n",
    "    state = nd.zeros(shape=(1, num_hidden), ctx=ctx)\n",
    "    output = [character_dict[prefix[0]]]\n",
    "    for i in range(num_chars+len(prefix)):\n",
    "        X = nd.array([output[-1]], ctx=ctx)\n",
    "        Y, state = rnn(get_inputs(X), state)\n",
    "        #print(Y)\n",
    "        if i < len(prefix)-1:\n",
    "            next_input = character_dict[prefix[i+1]]\n",
    "        else:\n",
    "            next_input = int(Y[0].argmax(axis=1).asscalar())\n",
    "        output.append(next_input)\n",
    "    return ''.join([character_list[i] for i in output])"
   ]
  },
  {
   "cell_type": "code",
   "execution_count": 13,
   "metadata": {
    "ExecuteTime": {
     "end_time": "2017-12-01T13:01:45.621949Z",
     "start_time": "2017-12-01T13:01:45.609901Z"
    },
    "collapsed": true
   },
   "outputs": [],
   "source": [
    "\n",
    "def grad_clipping(params, theta):\n",
    "    norm = nd.array([0.0], ctx)\n",
    "    for p in params:\n",
    "        norm += nd.sum(p.grad ** 2)\n",
    "    norm = nd.sqrt(norm).asscalar()\n",
    "    if norm > theta:\n",
    "        for p in params:\n",
    "            p.grad[:] *= theta/norm"
   ]
  },
  {
   "cell_type": "code",
   "execution_count": 14,
   "metadata": {
    "ExecuteTime": {
     "end_time": "2017-12-01T13:03:01.862645Z",
     "start_time": "2017-12-01T13:02:03.980662Z"
    }
   },
   "outputs": [
    {
     "name": "stdout",
     "output_type": "stream",
     "text": [
      "Epoch 0. PPL 31.024387\n",
      " -  the time maeeeeeeeeeeeeeeeeeeeeeeeeeeeeeeeeeeeeeeeeeeeeeeeeeeeeeeeeeeeeeeeeeeeeeeeeeeeeeeeeeeeeeeeeeeeeeeeeeeeee\n",
      " -  the medical man rose, came to the lamp,eeeeeeeeeeeeeeeeeeeeeeeeeeeeeeeeeeeeeeeeeeeeeeeeeeeeeeeeeeeeeeeeeeeeeeeeeeeeeeeeeeeeeeeeeeeeeeeeeeeee \n",
      "\n",
      "Epoch 20. PPL 11.102707\n",
      " -  the time mathe the the the the the the the the the the the the the the the the the the the the the the the the t\n",
      " -  the medical man rose, came to the lamp, and and and and and and and and and and and and and and and and and and and and and and and and and  \n",
      "\n",
      "Epoch 40. PPL 9.391547\n",
      " -  the time mave the the the the the the the the the the the the the the the the the the the the the the the the th\n",
      " -  the medical man rose, came to the lamp, and and and and and and and and and and and and and and and and and and and and and and and and and  \n",
      "\n",
      "Epoch 60. PPL 8.295995\n",
      " -  the time mave the the the the the the the the the the the the the the the the the the the the the the the the th\n",
      " -  the medical man rose, came to the lamp, and the that the the the the the the the the the the the the the the the the the the the the the the \n",
      "\n",
      "Epoch 80. PPL 7.308244\n",
      " -  the time mavere it the time traveller sions of the time traveller sions of the time traveller sions of the time \n",
      " -  the medical man rose, came to the lamp, and he the the the the the the the the the the the the the the the the the the the the the the the t \n",
      "\n",
      "Epoch 100. PPL 6.282843\n",
      " -  the time mathere in the persall the time traveller shave ind he the plomention is a lour dimension dimension it \n",
      " -  the medical man rose, came to the lamp,''shestime traveller shave ind he the plomention is a lour dimension dimension it a four the rimensio \n",
      "\n",
      "Epoch 120. PPL 5.285672\n",
      " -  the time mading stime traveller some tion the gersten the medical mane ou the time traveller simensions of the f\n",
      " -  the medical man rose, came to the lamp, 'shatling the time time traveller some tion the gersten the medical mane ou the time traveller simen \n",
      "\n",
      "Epoch 140. PPL 4.486742\n",
      " -  the time mavi but lough at allong thest ou that uree that is the ghimensions of space, and and so his groust ano\n",
      " -  the medical man rose, came to the lamp, 's ancentions, said the procencions ancallight you the sigel ansisting to you boung to congen, so it \n",
      "\n",
      "Epoch 160. PPL 3.744852\n",
      " -  the time machines,''still is whis a bough and he be antertall and there it to escome tions of space, and a fourt\n",
      " -  the medical man rose, came to the lamp, 'ed the permente tat reereden this thes ane dimensions. be an this itherealle bat fourth dimensions  \n",
      "\n",
      "Epoch 180. PPL 3.210088\n",
      " -  the time machine of the ind and this now you begat the tount as alling thith he fis in a three dimensions medica\n",
      " -  the medical man rose, came to the lamp, 'ith melitht time traveller space, and a fourth, time traveller space, and a fourth, time traveller  \n",
      "\n",
      "Epoch 200. PPL 2.880117\n",
      " -  the time machine, buth at reacous mother a the laythat do man the prycindid, and shith ig tilat tions, and theit\n",
      " -  the medical man rose, came to the lamp, 'that is the germ the bersce thing. that is the belickline to ithe time traveller.'it's alather at s \n",
      "\n"
     ]
    }
   ],
   "source": [
    "from mxnet import autograd\n",
    "from mxnet import gluon\n",
    "from math import exp\n",
    "\n",
    "epochs = 200\n",
    "seq_len = 35\n",
    "learning_rate = .1\n",
    "batch_size = 32\n",
    "\n",
    "softmax_cross_entropy = gluon.loss.SoftmaxCrossEntropyLoss()\n",
    "\n",
    "for e in range(epochs+1):\n",
    "    train_loss, num_examples = 0, 0\n",
    "    state = nd.zeros(shape=(batch_size, num_hidden), ctx=ctx)\n",
    "    for data, label in data_iter(batch_size, seq_len, ctx):\n",
    "        with autograd.record():\n",
    "            outputs, state = rnn(get_inputs(data), state)\n",
    "            # reshape label to (batch_size*seq_len, )\n",
    "            # concate outputs to (batch_size*seq_len, vocab_size)\n",
    "            label = label.T.reshape((-1,))\n",
    "            outputs = nd.concat(*outputs, dim=0)\n",
    "            loss = softmax_cross_entropy(outputs, label)\n",
    "        loss.backward()\n",
    "\n",
    "        grad_clipping(params, 5)\n",
    "        utils.SGD(params, learning_rate)\n",
    "\n",
    "        train_loss += nd.sum(loss).asscalar()\n",
    "        num_examples += loss.size\n",
    "\n",
    "    if e % 20 == 0:\n",
    "        print(\"Epoch %d. PPL %f\" % (e, exp(train_loss/num_examples)))\n",
    "        print(' - ', predict('The Time Ma', 100))\n",
    "        print(' - ', predict(\"The Medical Man rose, came to the lamp,\", 100), '\\n')\n"
   ]
  },
  {
   "cell_type": "code",
   "execution_count": null,
   "metadata": {
    "collapsed": true
   },
   "outputs": [],
   "source": []
  }
 ],
 "metadata": {
  "kernelspec": {
   "display_name": "Python 3",
   "language": "python",
   "name": "python3"
  },
  "language_info": {
   "codemirror_mode": {
    "name": "ipython",
    "version": 3
   },
   "file_extension": ".py",
   "mimetype": "text/x-python",
   "name": "python",
   "nbconvert_exporter": "python",
   "pygments_lexer": "ipython3",
   "version": "3.6.2"
  }
 },
 "nbformat": 4,
 "nbformat_minor": 2
}
