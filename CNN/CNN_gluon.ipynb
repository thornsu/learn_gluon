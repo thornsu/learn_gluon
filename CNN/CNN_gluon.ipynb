{
 "cells": [
  {
   "cell_type": "code",
   "execution_count": 1,
   "metadata": {
    "ExecuteTime": {
     "end_time": "2017-12-01T07:40:02.281169Z",
     "start_time": "2017-12-01T07:40:01.810850Z"
    },
    "collapsed": true
   },
   "outputs": [],
   "source": [
    "from mxnet.gluon import nn\n",
    "\n",
    "net = nn.Sequential()\n",
    "with net.name_scope():\n",
    "    net.add(\n",
    "        nn.Conv2D(channels=20, kernel_size=5, activation='relu'),\n",
    "        nn.MaxPool2D(pool_size=2, strides=2),\n",
    "        nn.Conv2D(channels=50, kernel_size=3, activation='relu'),\n",
    "        nn.MaxPool2D(pool_size=2, strides=2),\n",
    "        nn.Flatten(),\n",
    "        nn.Dense(128, activation=\"relu\"),\n",
    "        nn.Dense(10)\n",
    "    )"
   ]
  },
  {
   "cell_type": "code",
   "execution_count": 2,
   "metadata": {
    "ExecuteTime": {
     "end_time": "2017-12-01T07:40:25.905730Z",
     "start_time": "2017-12-01T07:40:12.059702Z"
    }
   },
   "outputs": [
    {
     "name": "stdout",
     "output_type": "stream",
     "text": [
      "initialize weight on gpu(0)\n",
      "Start training on  gpu(0)\n",
      "Epoch 0. Loss: 1.188, Train acc 0.57, Test acc 0.77, Time 2.8 sec\n",
      "Epoch 1. Loss: 0.498, Train acc 0.81, Test acc 0.83, Time 2.4 sec\n",
      "Epoch 2. Loss: 0.418, Train acc 0.84, Test acc 0.85, Time 2.4 sec\n",
      "Epoch 3. Loss: 0.368, Train acc 0.86, Test acc 0.87, Time 2.4 sec\n",
      "Epoch 4. Loss: 0.338, Train acc 0.87, Test acc 0.88, Time 2.4 sec\n"
     ]
    }
   ],
   "source": [
    "\n",
    "from mxnet import gluon\n",
    "import sys\n",
    "sys.path.append('..')\n",
    "import utils\n",
    "\n",
    "# 初始化\n",
    "ctx = utils.try_gpu()\n",
    "net.initialize(ctx=ctx)\n",
    "print('initialize weight on', ctx)\n",
    "\n",
    "# 获取数据\n",
    "batch_size = 256\n",
    "train_data, test_data = utils.load_data_fashion_mnist(batch_size)\n",
    "\n",
    "# 训练\n",
    "loss = gluon.loss.SoftmaxCrossEntropyLoss()\n",
    "trainer = gluon.Trainer(net.collect_params(),\n",
    "                        'sgd', {'learning_rate': 0.5})\n",
    "utils.train(train_data, test_data, net, loss,\n",
    "            trainer, ctx, num_epochs=5)"
   ]
  },
  {
   "cell_type": "code",
   "execution_count": null,
   "metadata": {
    "collapsed": true
   },
   "outputs": [],
   "source": []
  }
 ],
 "metadata": {
  "kernelspec": {
   "display_name": "Python 3",
   "language": "python",
   "name": "python3"
  },
  "language_info": {
   "codemirror_mode": {
    "name": "ipython",
    "version": 3
   },
   "file_extension": ".py",
   "mimetype": "text/x-python",
   "name": "python",
   "nbconvert_exporter": "python",
   "pygments_lexer": "ipython3",
   "version": "3.6.2"
  }
 },
 "nbformat": 4,
 "nbformat_minor": 2
}
