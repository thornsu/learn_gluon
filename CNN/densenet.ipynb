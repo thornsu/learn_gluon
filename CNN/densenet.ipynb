{
 "cells": [
  {
   "cell_type": "code",
   "execution_count": 1,
   "metadata": {
    "ExecuteTime": {
     "end_time": "2017-12-01T08:29:38.501351Z",
     "start_time": "2017-12-01T08:29:37.989230Z"
    },
    "collapsed": true
   },
   "outputs": [],
   "source": [
    "from mxnet import nd\n",
    "from mxnet.gluon import nn\n",
    "\n",
    "def conv_block(channels):\n",
    "    out = nn.Sequential()\n",
    "    out.add(\n",
    "        nn.BatchNorm(),\n",
    "        nn.Activation('relu'),\n",
    "        nn.Conv2D(channels, kernel_size=3, padding=1)\n",
    "    )\n",
    "    return out\n",
    "\n",
    "class DenseBlock(nn.Block):\n",
    "    def __init__(self, layers, growth_rate, **kwargs):\n",
    "        super(DenseBlock, self).__init__(**kwargs)\n",
    "        self.net = nn.Sequential()\n",
    "        for i in range(layers):\n",
    "            self.net.add(conv_block(growth_rate))\n",
    "\n",
    "    def forward(self, x):\n",
    "        for layer in self.net:\n",
    "            out = layer(x)\n",
    "            x = nd.concat(x, out, dim=1)\n",
    "        return x"
   ]
  },
  {
   "cell_type": "code",
   "execution_count": 2,
   "metadata": {
    "ExecuteTime": {
     "end_time": "2017-12-01T08:29:46.123452Z",
     "start_time": "2017-12-01T08:29:46.073991Z"
    }
   },
   "outputs": [
    {
     "data": {
      "text/plain": [
       "(4, 23, 8, 8)"
      ]
     },
     "execution_count": 2,
     "metadata": {},
     "output_type": "execute_result"
    }
   ],
   "source": [
    "dblk = DenseBlock(2, 10)\n",
    "dblk.initialize()\n",
    "\n",
    "x = nd.random.uniform(shape=(4,3,8,8))\n",
    "dblk(x).shape"
   ]
  },
  {
   "cell_type": "code",
   "execution_count": 3,
   "metadata": {
    "ExecuteTime": {
     "end_time": "2017-12-01T08:29:53.327340Z",
     "start_time": "2017-12-01T08:29:53.321665Z"
    },
    "collapsed": true
   },
   "outputs": [],
   "source": [
    "def transition_block(channels):\n",
    "    out = nn.Sequential()\n",
    "    out.add(\n",
    "        nn.BatchNorm(),\n",
    "        nn.Activation('relu'),\n",
    "        nn.Conv2D(channels, kernel_size=1),\n",
    "        nn.AvgPool2D(pool_size=2, strides=2)\n",
    "    )\n",
    "    return out"
   ]
  },
  {
   "cell_type": "code",
   "execution_count": 4,
   "metadata": {
    "ExecuteTime": {
     "end_time": "2017-12-01T08:30:02.251551Z",
     "start_time": "2017-12-01T08:30:02.233962Z"
    }
   },
   "outputs": [
    {
     "data": {
      "text/plain": [
       "(4, 10, 4, 4)"
      ]
     },
     "execution_count": 4,
     "metadata": {},
     "output_type": "execute_result"
    }
   ],
   "source": [
    "\n",
    "tblk = transition_block(10)\n",
    "tblk.initialize()\n",
    "\n",
    "tblk(x).shape"
   ]
  },
  {
   "cell_type": "code",
   "execution_count": 5,
   "metadata": {
    "ExecuteTime": {
     "end_time": "2017-12-01T08:30:11.426026Z",
     "start_time": "2017-12-01T08:30:11.393022Z"
    },
    "collapsed": true
   },
   "outputs": [],
   "source": [
    "init_channels = 64\n",
    "growth_rate = 32\n",
    "block_layers = [6, 12, 24, 16]\n",
    "num_classes = 10\n",
    "\n",
    "def dense_net():\n",
    "    net = nn.Sequential()\n",
    "    # add name_scope on the outermost Sequential\n",
    "    with net.name_scope():\n",
    "        # first block\n",
    "        net.add(\n",
    "            nn.Conv2D(init_channels, kernel_size=7,\n",
    "                      strides=2, padding=3),\n",
    "            nn.BatchNorm(),\n",
    "            nn.Activation('relu'),\n",
    "            nn.MaxPool2D(pool_size=3, strides=2, padding=1)\n",
    "        )\n",
    "        # dense blocks\n",
    "        channels = init_channels\n",
    "        for i, layers in enumerate(block_layers):\n",
    "            net.add(DenseBlock(layers, growth_rate))\n",
    "            channels += layers * growth_rate\n",
    "            if i != len(block_layers)-1:\n",
    "                net.add(transition_block(channels//2))\n",
    "        # last block\n",
    "        net.add(\n",
    "            nn.BatchNorm(),\n",
    "            nn.Activation('relu'),\n",
    "            nn.AvgPool2D(pool_size=1),\n",
    "            nn.Flatten(),\n",
    "            nn.Dense(num_classes)\n",
    "        )\n",
    "    return net"
   ]
  },
  {
   "cell_type": "code",
   "execution_count": 6,
   "metadata": {
    "ExecuteTime": {
     "end_time": "2017-12-01T08:32:17.082328Z",
     "start_time": "2017-12-01T08:30:22.565988Z"
    }
   },
   "outputs": [
    {
     "name": "stdout",
     "output_type": "stream",
     "text": [
      "Start training on  gpu(0)\n",
      "Epoch 0. Loss: 0.466, Train acc 0.83, Test acc 0.86, Time 113.0 sec\n"
     ]
    }
   ],
   "source": [
    "import sys\n",
    "sys.path.append('..')\n",
    "import utils\n",
    "from mxnet import gluon\n",
    "from mxnet import init\n",
    "\n",
    "train_data, test_data = utils.load_data_fashion_mnist(\n",
    "    batch_size=64, resize=32)\n",
    "\n",
    "ctx = utils.try_gpu()\n",
    "net = dense_net()\n",
    "net.initialize(ctx=ctx, init=init.Xavier())\n",
    "\n",
    "loss = gluon.loss.SoftmaxCrossEntropyLoss()\n",
    "trainer = gluon.Trainer(net.collect_params(),\n",
    "                        'sgd', {'learning_rate': 0.1})\n",
    "utils.train(train_data, test_data, net, loss,\n",
    "            trainer, ctx, num_epochs=1)"
   ]
  },
  {
   "cell_type": "code",
   "execution_count": null,
   "metadata": {
    "collapsed": true
   },
   "outputs": [],
   "source": []
  }
 ],
 "metadata": {
  "kernelspec": {
   "display_name": "Python 3",
   "language": "python",
   "name": "python3"
  },
  "language_info": {
   "codemirror_mode": {
    "name": "ipython",
    "version": 3
   },
   "file_extension": ".py",
   "mimetype": "text/x-python",
   "name": "python",
   "nbconvert_exporter": "python",
   "pygments_lexer": "ipython3",
   "version": "3.6.2"
  }
 },
 "nbformat": 4,
 "nbformat_minor": 2
}
