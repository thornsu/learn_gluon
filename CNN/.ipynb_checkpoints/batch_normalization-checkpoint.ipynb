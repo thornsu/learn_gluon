{
 "cells": [
  {
   "cell_type": "code",
   "execution_count": 1,
   "metadata": {
    "ExecuteTime": {
     "end_time": "2017-12-01T07:41:33.710978Z",
     "start_time": "2017-12-01T07:41:33.241338Z"
    },
    "collapsed": true
   },
   "outputs": [],
   "source": [
    "from mxnet import nd\n",
    "def pure_batch_norm(X, gamma, beta, eps=1e-5):\n",
    "    assert len(X.shape) in (2, 4)\n",
    "    # 全连接: batch_size x feature\n",
    "    if len(X.shape) == 2:\n",
    "        # 每个输入维度在样本上的平均和方差\n",
    "        mean = X.mean(axis=0)\n",
    "        variance = ((X - mean)**2).mean(axis=0)\n",
    "    # 2D卷积: batch_size x channel x height x width\n",
    "    else:\n",
    "        # 对每个通道算均值和方差，需要保持4D形状使得可以正确地广播\n",
    "        mean = X.mean(axis=(0,2,3), keepdims=True)\n",
    "        variance = ((X - mean)**2).mean(axis=(0,2,3), keepdims=True)\n",
    "\n",
    "    # 均一化\n",
    "    X_hat = (X - mean) / nd.sqrt(variance + eps)\n",
    "    # 拉升和偏移\n",
    "    return gamma.reshape(mean.shape) * X_hat + beta.reshape(mean.shape)"
   ]
  },
  {
   "cell_type": "code",
   "execution_count": 2,
   "metadata": {
    "ExecuteTime": {
     "end_time": "2017-12-01T07:41:41.279763Z",
     "start_time": "2017-12-01T07:41:41.232448Z"
    }
   },
   "outputs": [
    {
     "data": {
      "text/plain": [
       "\n",
       "[[ 0.  1.]\n",
       " [ 2.  3.]\n",
       " [ 4.  5.]]\n",
       "<NDArray 3x2 @cpu(0)>"
      ]
     },
     "execution_count": 2,
     "metadata": {},
     "output_type": "execute_result"
    }
   ],
   "source": [
    "A = nd.arange(6).reshape((3,2))\n",
    "A"
   ]
  },
  {
   "cell_type": "code",
   "execution_count": 3,
   "metadata": {
    "ExecuteTime": {
     "end_time": "2017-12-01T07:41:50.871795Z",
     "start_time": "2017-12-01T07:41:50.845368Z"
    }
   },
   "outputs": [
    {
     "data": {
      "text/plain": [
       "\n",
       "[[-1.22474265 -1.22474265]\n",
       " [ 0.          0.        ]\n",
       " [ 1.22474265  1.22474265]]\n",
       "<NDArray 3x2 @cpu(0)>"
      ]
     },
     "execution_count": 3,
     "metadata": {},
     "output_type": "execute_result"
    }
   ],
   "source": [
    "\n",
    "pure_batch_norm(A, gamma=nd.array([1,1]), beta=nd.array([0,0]))"
   ]
  },
  {
   "cell_type": "code",
   "execution_count": 4,
   "metadata": {
    "ExecuteTime": {
     "end_time": "2017-12-01T07:42:00.050371Z",
     "start_time": "2017-12-01T07:42:00.033514Z"
    }
   },
   "outputs": [
    {
     "data": {
      "text/plain": [
       "\n",
       "[[[[  0.   1.   2.]\n",
       "   [  3.   4.   5.]\n",
       "   [  6.   7.   8.]]\n",
       "\n",
       "  [[  9.  10.  11.]\n",
       "   [ 12.  13.  14.]\n",
       "   [ 15.  16.  17.]]]]\n",
       "<NDArray 1x2x3x3 @cpu(0)>"
      ]
     },
     "execution_count": 4,
     "metadata": {},
     "output_type": "execute_result"
    }
   ],
   "source": [
    "\n",
    "B = nd.arange(18).reshape((1,2,3,3))\n",
    "B"
   ]
  },
  {
   "cell_type": "code",
   "execution_count": 5,
   "metadata": {
    "ExecuteTime": {
     "end_time": "2017-12-01T07:42:11.971981Z",
     "start_time": "2017-12-01T07:42:11.954551Z"
    }
   },
   "outputs": [
    {
     "data": {
      "text/plain": [
       "\n",
       "[[[[-1.54919219 -1.1618942  -0.7745961 ]\n",
       "   [-0.38729805  0.          0.38729805]\n",
       "   [ 0.7745961   1.1618942   1.54919219]]\n",
       "\n",
       "  [[-1.54919219 -1.1618942  -0.7745961 ]\n",
       "   [-0.38729805  0.          0.38729805]\n",
       "   [ 0.7745961   1.1618942   1.54919219]]]]\n",
       "<NDArray 1x2x3x3 @cpu(0)>"
      ]
     },
     "execution_count": 5,
     "metadata": {},
     "output_type": "execute_result"
    }
   ],
   "source": [
    "\n",
    "pure_batch_norm(B, gamma=nd.array([1,1]), beta=nd.array([0,0]))"
   ]
  },
  {
   "cell_type": "code",
   "execution_count": 6,
   "metadata": {
    "ExecuteTime": {
     "end_time": "2017-12-01T07:42:26.035768Z",
     "start_time": "2017-12-01T07:42:25.951516Z"
    },
    "collapsed": true
   },
   "outputs": [],
   "source": [
    "def batch_norm(X, gamma, beta, is_training, moving_mean, moving_variance,\n",
    "               eps = 1e-5, moving_momentum = 0.9):\n",
    "    assert len(X.shape) in (2, 4)\n",
    "    # 全连接: batch_size x feature\n",
    "    if len(X.shape) == 2:\n",
    "        # 每个输入维度在样本上的平均和方差\n",
    "        mean = X.mean(axis=0)\n",
    "        variance = ((X - mean)**2).mean(axis=0)\n",
    "    # 2D卷积: batch_size x channel x height x width\n",
    "    else:\n",
    "        # 对每个通道算均值和方差，需要保持4D形状使得可以正确的广播\n",
    "        mean = X.mean(axis=(0,2,3), keepdims=True)\n",
    "        variance = ((X - mean)**2).mean(axis=(0,2,3), keepdims=True)\n",
    "        # 变形使得可以正确的广播\n",
    "        moving_mean = moving_mean.reshape(mean.shape)\n",
    "        moving_variance = moving_variance.reshape(mean.shape)\n",
    "\n",
    "    # 均一化\n",
    "    if is_training:\n",
    "        X_hat = (X - mean) / nd.sqrt(variance + eps)\n",
    "        #!!! 更新全局的均值和方差\n",
    "        moving_mean[:] = moving_momentum * moving_mean + (\n",
    "            1.0 - moving_momentum) * mean\n",
    "        moving_variance[:] = moving_momentum * moving_variance + (\n",
    "            1.0 - moving_momentum) * variance\n",
    "    else:\n",
    "        #!!! 测试阶段使用全局的均值和方差\n",
    "        X_hat = (X - moving_mean) / nd.sqrt(moving_variance + eps)\n",
    "\n",
    "    # 拉升和偏移\n",
    "    return gamma.reshape(mean.shape) * X_hat + beta.reshape(mean.shape)"
   ]
  },
  {
   "cell_type": "code",
   "execution_count": 7,
   "metadata": {
    "ExecuteTime": {
     "end_time": "2017-12-01T07:42:35.472246Z",
     "start_time": "2017-12-01T07:42:34.449997Z"
    }
   },
   "outputs": [
    {
     "data": {
      "text/plain": [
       "gpu(0)"
      ]
     },
     "execution_count": 7,
     "metadata": {},
     "output_type": "execute_result"
    }
   ],
   "source": [
    "import sys\n",
    "sys.path.append('..')\n",
    "import utils\n",
    "ctx = utils.try_gpu()\n",
    "ctx"
   ]
  },
  {
   "cell_type": "code",
   "execution_count": 8,
   "metadata": {
    "ExecuteTime": {
     "end_time": "2017-12-01T07:42:47.801941Z",
     "start_time": "2017-12-01T07:42:47.411856Z"
    },
    "collapsed": true
   },
   "outputs": [],
   "source": [
    "\n",
    "weight_scale = .01\n",
    "\n",
    "# output channels = 20, kernel = (5,5)\n",
    "c1 = 20\n",
    "W1 = nd.random.normal(shape=(c1,1,5,5), scale=weight_scale, ctx=ctx)\n",
    "b1 = nd.zeros(c1, ctx=ctx)\n",
    "\n",
    "# batch norm 1\n",
    "gamma1 = nd.random.normal(shape=c1, scale=weight_scale, ctx=ctx)\n",
    "beta1 = nd.random.normal(shape=c1, scale=weight_scale, ctx=ctx)\n",
    "moving_mean1 = nd.zeros(c1, ctx=ctx)\n",
    "moving_variance1 = nd.zeros(c1, ctx=ctx)\n",
    "\n",
    "# output channels = 50, kernel = (3,3)\n",
    "c2 = 50\n",
    "W2 = nd.random_normal(shape=(c2,c1,3,3), scale=weight_scale, ctx=ctx)\n",
    "b2 = nd.zeros(c2, ctx=ctx)\n",
    "\n",
    "# batch norm 2\n",
    "gamma2 = nd.random.normal(shape=c2, scale=weight_scale, ctx=ctx)\n",
    "beta2 = nd.random.normal(shape=c2, scale=weight_scale, ctx=ctx)\n",
    "moving_mean2 = nd.zeros(c2, ctx=ctx)\n",
    "moving_variance2 = nd.zeros(c2, ctx=ctx)\n",
    "\n",
    "# output dim = 128\n",
    "o3 = 128\n",
    "W3 = nd.random.normal(shape=(1250, o3), scale=weight_scale, ctx=ctx)\n",
    "b3 = nd.zeros(o3, ctx=ctx)\n",
    "\n",
    "# output dim = 10\n",
    "W4 = nd.random_normal(shape=(W3.shape[1], 10), scale=weight_scale, ctx=ctx)\n",
    "b4 = nd.zeros(W4.shape[1], ctx=ctx)\n",
    "\n",
    "# 注意这里moving_*是不需要更新的\n",
    "params = [W1, b1, gamma1, beta1,\n",
    "          W2, b2, gamma2, beta2,\n",
    "          W3, b3, W4, b4]\n",
    "\n",
    "for param in params:\n",
    "    param.attach_grad()"
   ]
  },
  {
   "cell_type": "code",
   "execution_count": 9,
   "metadata": {
    "ExecuteTime": {
     "end_time": "2017-12-01T07:42:55.688182Z",
     "start_time": "2017-12-01T07:42:55.589048Z"
    },
    "collapsed": true
   },
   "outputs": [],
   "source": [
    "\n",
    "def net(X, is_training=False, verbose=False):\n",
    "    X = X.as_in_context(W1.context)\n",
    "    # 第一层卷积\n",
    "    h1_conv = nd.Convolution(\n",
    "        data=X, weight=W1, bias=b1, kernel=W1.shape[2:], num_filter=c1)\n",
    "    ### 添加了批量归一化层\n",
    "    h1_bn = batch_norm(h1_conv, gamma1, beta1, is_training,\n",
    "                       moving_mean1, moving_variance1)\n",
    "    h1_activation = nd.relu(h1_bn)\n",
    "    h1 = nd.Pooling(\n",
    "        data=h1_activation, pool_type=\"max\", kernel=(2,2), stride=(2,2))\n",
    "    # 第二层卷积\n",
    "    h2_conv = nd.Convolution(\n",
    "        data=h1, weight=W2, bias=b2, kernel=W2.shape[2:], num_filter=c2)\n",
    "    ### 添加了批量归一化层\n",
    "    h2_bn = batch_norm(h2_conv, gamma2, beta2, is_training,\n",
    "                       moving_mean2, moving_variance2)\n",
    "    h2_activation = nd.relu(h2_bn)\n",
    "    h2 = nd.Pooling(data=h2_activation, pool_type=\"max\", kernel=(2,2), stride=(2,2))\n",
    "    h2 = nd.flatten(h2)\n",
    "    # 第一层全连接\n",
    "    h3_linear = nd.dot(h2, W3) + b3\n",
    "    h3 = nd.relu(h3_linear)\n",
    "    # 第二层全连接\n",
    "    h4_linear = nd.dot(h3, W4) + b4\n",
    "    if verbose:\n",
    "        print('1st conv block:', h1.shape)\n",
    "        print('2nd conv block:', h2.shape)\n",
    "        print('1st dense:', h3.shape)\n",
    "        print('2nd dense:', h4_linear.shape)\n",
    "        print('output:', h4_linear)\n",
    "    return h4_linear"
   ]
  },
  {
   "cell_type": "code",
   "execution_count": 10,
   "metadata": {
    "ExecuteTime": {
     "end_time": "2017-12-01T07:43:45.112906Z",
     "start_time": "2017-12-01T07:43:10.205898Z"
    }
   },
   "outputs": [
    {
     "name": "stdout",
     "output_type": "stream",
     "text": [
      "Epoch 0. Loss: 2.000764, Train acc 0.233574, Test acc 0.557792\n",
      "Epoch 1. Loss: 0.602412, Train acc 0.772653, Test acc 0.843349\n",
      "Epoch 2. Loss: 0.425101, Train acc 0.842248, Test acc 0.857472\n",
      "Epoch 3. Loss: 0.359077, Train acc 0.866987, Test acc 0.875901\n",
      "Epoch 4. Loss: 0.321939, Train acc 0.880409, Test acc 0.883013\n"
     ]
    }
   ],
   "source": [
    "from mxnet import autograd\n",
    "from mxnet import gluon\n",
    "\n",
    "batch_size = 256\n",
    "train_data, test_data = utils.load_data_fashion_mnist(batch_size)\n",
    "\n",
    "softmax_cross_entropy = gluon.loss.SoftmaxCrossEntropyLoss()\n",
    "\n",
    "learning_rate = 0.2\n",
    "\n",
    "for epoch in range(5):\n",
    "    train_loss = 0.\n",
    "    train_acc = 0.\n",
    "    for data, label in train_data:\n",
    "        label = label.as_in_context(ctx)\n",
    "        with autograd.record():\n",
    "            output = net(data, is_training=True)\n",
    "            loss = softmax_cross_entropy(output, label)\n",
    "        loss.backward()\n",
    "        utils.SGD(params, learning_rate/batch_size)\n",
    "\n",
    "        train_loss += nd.mean(loss).asscalar()\n",
    "        train_acc += utils.accuracy(output, label)\n",
    "\n",
    "    test_acc = utils.evaluate_accuracy(test_data, net, ctx)\n",
    "    print(\"Epoch %d. Loss: %f, Train acc %f, Test acc %f\" % (\n",
    "            epoch, train_loss/len(train_data), train_acc/len(train_data), test_acc))"
   ]
  },
  {
   "cell_type": "code",
   "execution_count": null,
   "metadata": {
    "collapsed": true
   },
   "outputs": [],
   "source": []
  }
 ],
 "metadata": {
  "kernelspec": {
   "display_name": "Python 3",
   "language": "python",
   "name": "python3"
  },
  "language_info": {
   "codemirror_mode": {
    "name": "ipython",
    "version": 3
   },
   "file_extension": ".py",
   "mimetype": "text/x-python",
   "name": "python",
   "nbconvert_exporter": "python",
   "pygments_lexer": "ipython3",
   "version": "3.6.2"
  }
 },
 "nbformat": 4,
 "nbformat_minor": 2
}
