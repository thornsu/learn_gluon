{
 "cells": [
  {
   "cell_type": "code",
   "execution_count": 1,
   "metadata": {
    "ExecuteTime": {
     "end_time": "2017-12-01T13:18:41.005591Z",
     "start_time": "2017-12-01T13:18:40.086833Z"
    },
    "collapsed": true
   },
   "outputs": [],
   "source": [
    "\n",
    "from mxnet.gluon import nn\n",
    "\n",
    "def mlpconv(channels, kernel_size, padding,\n",
    "            strides=1, max_pooling=True):\n",
    "    out = nn.Sequential()\n",
    "    out.add(\n",
    "        nn.Conv2D(channels=channels, kernel_size=kernel_size,\n",
    "                  strides=strides, padding=padding,\n",
    "                  activation='relu'),\n",
    "        nn.Conv2D(channels=channels, kernel_size=1,\n",
    "                  padding=0, strides=1, activation='relu'),\n",
    "        nn.Conv2D(channels=channels, kernel_size=1,\n",
    "                  padding=0, strides=1, activation='relu'))\n",
    "    if max_pooling:\n",
    "        out.add(nn.MaxPool2D(pool_size=3, strides=2))\n",
    "    return out"
   ]
  },
  {
   "cell_type": "code",
   "execution_count": 2,
   "metadata": {
    "ExecuteTime": {
     "end_time": "2017-12-01T13:18:42.073821Z",
     "start_time": "2017-12-01T13:18:42.003839Z"
    }
   },
   "outputs": [
    {
     "data": {
      "text/plain": [
       "(32, 64, 6, 6)"
      ]
     },
     "execution_count": 2,
     "metadata": {},
     "output_type": "execute_result"
    }
   ],
   "source": [
    "\n",
    "from mxnet import nd\n",
    "\n",
    "blk = mlpconv(64, 3, 0)\n",
    "blk.initialize()\n",
    "\n",
    "x = nd.random.uniform(shape=(32, 3, 16, 16))\n",
    "y = blk(x)\n",
    "y.shape"
   ]
  },
  {
   "cell_type": "code",
   "execution_count": 3,
   "metadata": {
    "ExecuteTime": {
     "end_time": "2017-12-01T13:18:43.194364Z",
     "start_time": "2017-12-01T13:18:43.169460Z"
    },
    "collapsed": true
   },
   "outputs": [],
   "source": [
    "net = nn.Sequential()\n",
    "# add name_scope on the outer most Sequential\n",
    "with net.name_scope():\n",
    "    net.add(\n",
    "        mlpconv(96, 11, 0, strides=4),\n",
    "        mlpconv(256, 5, 2),\n",
    "        mlpconv(384, 3, 1),\n",
    "        nn.Dropout(.5),\n",
    "        # 目标类为10类\n",
    "        mlpconv(10, 3, 1, max_pooling=False),\n",
    "        # 输入为 batch_size x 10 x 5 x 5, 通过AvgPool2D转成\n",
    "        # batch_size x 10 x 1 x 1。\n",
    "        nn.AvgPool2D(pool_size=5),\n",
    "        # 转成 batch_size x 10\n",
    "        nn.Flatten()\n",
    "    )"
   ]
  },
  {
   "cell_type": "code",
   "execution_count": 4,
   "metadata": {
    "ExecuteTime": {
     "end_time": "2017-12-01T13:26:56.889488Z",
     "start_time": "2017-12-01T13:18:48.732436Z"
    }
   },
   "outputs": [
    {
     "name": "stdout",
     "output_type": "stream",
     "text": [
      "Start training on  gpu(0)\n",
      "Epoch 0. Loss: 2.303, Train acc 0.10, Test acc 0.10, Time 485.2 sec\n"
     ]
    }
   ],
   "source": [
    "import sys\n",
    "sys.path.append('..')\n",
    "import utils\n",
    "from mxnet import gluon\n",
    "from mxnet import init\n",
    "\n",
    "train_data, test_data = utils.load_data_fashion_mnist(\n",
    "    batch_size=64, resize=224)\n",
    "\n",
    "ctx = utils.try_gpu()\n",
    "net.initialize(ctx=ctx, init=init.Xavier())\n",
    "\n",
    "loss = gluon.loss.SoftmaxCrossEntropyLoss()\n",
    "trainer = gluon.Trainer(net.collect_params(),\n",
    "                        'sgd', {'learning_rate': 0.1})\n",
    "utils.train(train_data, test_data, net, loss,\n",
    "            trainer, ctx, num_epochs=1)"
   ]
  },
  {
   "cell_type": "code",
   "execution_count": null,
   "metadata": {
    "collapsed": true
   },
   "outputs": [],
   "source": []
  }
 ],
 "metadata": {
  "kernelspec": {
   "display_name": "Python 3",
   "language": "python",
   "name": "python3"
  },
  "language_info": {
   "codemirror_mode": {
    "name": "ipython",
    "version": 3
   },
   "file_extension": ".py",
   "mimetype": "text/x-python",
   "name": "python",
   "nbconvert_exporter": "python",
   "pygments_lexer": "ipython3",
   "version": "3.6.2"
  }
 },
 "nbformat": 4,
 "nbformat_minor": 2
}
