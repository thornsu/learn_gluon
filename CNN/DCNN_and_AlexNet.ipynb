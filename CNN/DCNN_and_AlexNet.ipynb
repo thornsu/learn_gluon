{
 "cells": [
  {
   "cell_type": "code",
   "execution_count": 1,
   "metadata": {
    "ExecuteTime": {
     "end_time": "2017-11-29T06:41:01.659248Z",
     "start_time": "2017-11-29T06:41:00.637140Z"
    },
    "collapsed": true
   },
   "outputs": [],
   "source": [
    "from mxnet.gluon import nn\n",
    "\n",
    "net = nn.Sequential()\n",
    "with net.name_scope():\n",
    "    net.add(\n",
    "        # 第一阶段\n",
    "        nn.Conv2D(channels=96, kernel_size=11,\n",
    "                  strides=4, activation='relu'),\n",
    "        nn.MaxPool2D(pool_size=3, strides=2),\n",
    "        # 第二阶段\n",
    "        nn.Conv2D(channels=256, kernel_size=5,\n",
    "                  padding=2, activation='relu'),\n",
    "        nn.MaxPool2D(pool_size=3, strides=2),\n",
    "        # 第三阶段\n",
    "        nn.Conv2D(channels=384, kernel_size=3,\n",
    "                  padding=1, activation='relu'),\n",
    "        nn.Conv2D(channels=384, kernel_size=3,\n",
    "                  padding=1, activation='relu'),\n",
    "        nn.Conv2D(channels=256, kernel_size=3,\n",
    "                  padding=1, activation='relu'),\n",
    "        nn.MaxPool2D(pool_size=3, strides=2),\n",
    "        # 第四阶段\n",
    "        nn.Flatten(),\n",
    "        nn.Dense(4096, activation=\"relu\"),\n",
    "        nn.Dropout(.5),\n",
    "        # 第五阶段\n",
    "        nn.Dense(4096, activation=\"relu\"),\n",
    "        nn.Dropout(.5),\n",
    "        # 第六阶段\n",
    "        nn.Dense(10)\n",
    "    )"
   ]
  },
  {
   "cell_type": "code",
   "execution_count": 2,
   "metadata": {
    "ExecuteTime": {
     "end_time": "2017-11-29T06:41:03.402259Z",
     "start_time": "2017-11-29T06:41:02.601715Z"
    },
    "collapsed": true
   },
   "outputs": [],
   "source": [
    "import sys\n",
    "sys.path.append('..')\n",
    "import utils\n",
    "\n",
    "train_data, test_data = utils.load_data_fashion_mnist(\n",
    "    batch_size=64, resize=224)"
   ]
  },
  {
   "cell_type": "code",
   "execution_count": null,
   "metadata": {
    "ExecuteTime": {
     "start_time": "2017-11-29T06:41:07.308Z"
    }
   },
   "outputs": [
    {
     "name": "stdout",
     "output_type": "stream",
     "text": [
      "Start training on  gpu(0)\n",
      "Epoch 0. Loss: 2.303, Train acc 0.10, Test acc 0.11, Time 463.6 sec\n"
     ]
    }
   ],
   "source": [
    "from mxnet import init\n",
    "from mxnet import gluon\n",
    "\n",
    "ctx = utils.try_gpu()\n",
    "net.initialize(ctx=ctx, init=init.Xavier())\n",
    "\n",
    "loss = gluon.loss.SoftmaxCrossEntropyLoss()\n",
    "trainer = gluon.Trainer(net.collect_params(),\n",
    "                        'sgd', {'learning_rate': 0.01})\n",
    "utils.train(train_data, test_data, net, loss,\n",
    "            trainer, ctx, num_epochs=3)"
   ]
  },
  {
   "cell_type": "code",
   "execution_count": null,
   "metadata": {
    "collapsed": true
   },
   "outputs": [],
   "source": []
  }
 ],
 "metadata": {
  "kernelspec": {
   "display_name": "Python 3",
   "language": "python",
   "name": "python3"
  },
  "language_info": {
   "codemirror_mode": {
    "name": "ipython",
    "version": 3
   },
   "file_extension": ".py",
   "mimetype": "text/x-python",
   "name": "python",
   "nbconvert_exporter": "python",
   "pygments_lexer": "ipython3",
   "version": "3.6.2"
  }
 },
 "nbformat": 4,
 "nbformat_minor": 2
}
